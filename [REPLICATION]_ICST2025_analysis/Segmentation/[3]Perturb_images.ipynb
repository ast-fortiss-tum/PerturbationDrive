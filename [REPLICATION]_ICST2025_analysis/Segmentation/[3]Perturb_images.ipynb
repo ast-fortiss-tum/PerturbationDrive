{
 "cells": [
  {
   "cell_type": "code",
   "execution_count": null,
   "metadata": {},
   "outputs": [],
   "source": [
    "from perturbationdrive import ImagePerturbation\n",
    "import cv2\n",
    "import numpy as np\n",
    "import matplotlib.pyplot as plt\n",
    "import os"
   ]
  },
  {
   "cell_type": "code",
   "execution_count": null,
   "metadata": {},
   "outputs": [],
   "source": [
    "# Specify the input and output folders\n",
    "input_folder_path = 'content/datasets/data_in/objects/sim/img/0020/clone/'\n",
    "output_folder_base = 'content/datasets/data_in/objects/sim_perturbed/img/0020/clone/'\n",
    "\n",
    "functions=['canny_edges_mapping','contrast','cutout_filter','defocus_blur','dotted_lines_mapping','elastic','false_color_filter','fog_filter','frost_filter','gaussian_blur','gaussian_noise','glass_blur','grayscale_filter','histogram_equalisation','impulse_noise','increase_brightness','jpeg_filter','low_pass_filter','motion_blur','phase_scrambling','poisson_noise','reflection_filter','sample_pairing_filter','saturation_decrease_filter','saturation_filter','scale_image','sharpen_filter','snow_filter','speckle_noise_filter','splatter_mapping','translate_image','white_balance_filter','zigzag_mapping']\n",
    "\n",
    "image_files = [f for f in os.listdir(input_folder_path) if f.endswith(('.png', '.jpg', '.jpeg'))]\n",
    "# Instantiate the perturbation controller\n",
    "perturbation_controller = ImagePerturbation(funcs=functions,image_size=(375,1242))\n",
    "for intensity in range(0,5):\n",
    "    for perturbation in functions:\n",
    "        print(f\"Applying perturbation: {perturbation}\")\n",
    "        perturbation_name=perturbation+\"_\"+str(intensity)\n",
    "        perturbation_folder = os.path.join(output_folder_base, perturbation_name)\n",
    "        os.makedirs(perturbation_folder, exist_ok=True)\n",
    "        # Iterate over each image file\n",
    "        for image_file in image_files:\n",
    "            image_path = os.path.join(input_folder_path, image_file)\n",
    "            image = cv2.imread(image_path, cv2.IMREAD_UNCHANGED)\n",
    "            \n",
    "            if image is None:\n",
    "                print(f\"Could not load image: {image_file}\")\n",
    "                continue  # Skip if the image could not be loaded\n",
    "            test_image=image.copy()\n",
    "            perturbed_image=perturbation_controller.perturbation(test_image,perturbation,intensity)\n",
    "            perturbation_name=perturbation+\"_\"+str(intensity)\n",
    "            output_image_path = os.path.join(output_folder_base, perturbation_name, image_file)\n",
    "            cv2.imwrite(output_image_path, perturbed_image)\n",
    "\n",
    "print(\"All perturbations applied and images saved.\")"
   ]
  },
  {
   "cell_type": "code",
   "execution_count": null,
   "metadata": {},
   "outputs": [],
   "source": []
  }
 ],
 "metadata": {
  "kernelspec": {
   "display_name": "tfEnv4",
   "language": "python",
   "name": "tfenv4"
  },
  "language_info": {
   "codemirror_mode": {
    "name": "ipython",
    "version": 3
   },
   "file_extension": ".py",
   "mimetype": "text/x-python",
   "name": "python",
   "nbconvert_exporter": "python",
   "pygments_lexer": "ipython3",
   "version": "3.9.16"
  }
 },
 "nbformat": 4,
 "nbformat_minor": 2
}
